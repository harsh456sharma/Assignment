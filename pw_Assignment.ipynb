{
 "cells": [
  {
   "cell_type": "code",
   "execution_count": 1,
   "id": "9a775d94-27d4-4c5e-8053-c21f209ea27e",
   "metadata": {},
   "outputs": [
    {
     "data": {
      "text/plain": [
       "'!dlroW ,olleH'"
      ]
     },
     "execution_count": 1,
     "metadata": {},
     "output_type": "execute_result"
    }
   ],
   "source": [
    "# Assignment \n",
    "\n",
    "# 1. Write a code to reverse a string.\n",
    "\n",
    "def reverse_string(s):\n",
    "    return s[::-1]\n",
    "\n",
    "\n",
    "input_string = \"Hello, World!\"\n",
    "reversed_string = reverse_string(input_string)\n",
    "reversed_string\n"
   ]
  },
  {
   "cell_type": "code",
   "execution_count": 2,
   "id": "c6c49325-0fd3-4ffc-ae43-78bf3eb0f0b4",
   "metadata": {},
   "outputs": [
    {
     "data": {
      "text/plain": [
       "3"
      ]
     },
     "execution_count": 2,
     "metadata": {},
     "output_type": "execute_result"
    }
   ],
   "source": [
    "# 2. write a code to count the number of vowels in a string.\n",
    "\n",
    "def count_vowels(s):\n",
    "    vowels = \"aeiouAEIOU\"\n",
    "    count = 0\n",
    "    for char in s:\n",
    "        if char in vowels:\n",
    "            count += 1\n",
    "    return count\n",
    "\n",
    "input_string = \"Hello, World!\"\n",
    "vowel_count = count_vowels(input_string)\n",
    "vowel_count\n"
   ]
  },
  {
   "cell_type": "code",
   "execution_count": 3,
   "id": "08e8b561-c956-4260-a6d0-8b1890e89005",
   "metadata": {},
   "outputs": [
    {
     "data": {
      "text/plain": [
       "True"
      ]
     },
     "execution_count": 3,
     "metadata": {},
     "output_type": "execute_result"
    }
   ],
   "source": [
    "#  3. Write a code to check if a given string is a palindrome or not.\n",
    "\n",
    "def is_palindrome(s):\n",
    "    cleaned_string = ''.join(char.lower() for char in s if char.isalnum())\n",
    "    return cleaned_string == cleaned_string[::-1]\n",
    "\n",
    "input_string = \"A man, a plan, a canal: Panama\"\n",
    "result = is_palindrome(input_string)\n",
    "result"
   ]
  },
  {
   "cell_type": "code",
   "execution_count": null,
   "id": "97c0ac07-82d8-4ea5-b456-cc5847abf038",
   "metadata": {},
   "outputs": [
    {
     "name": "stdout",
     "output_type": "stream",
     "text": [
      "\"listen\" and \"silent\" are anagrams.\n"
     ]
    }
   ],
   "source": [
    "# 4. write a code to check if two given string are anagrams of each other.\n",
    "\n",
    "def are_anagrams(str1, str2):\n",
    "    str1 = str1.replace(\" \", \"\").lower()\n",
    "    str2 = str2.replace(\" \", \"\").lower()\n",
    "    \n",
    "    return sorted(str1) == sorted(str2)\n",
    "\n",
    "string1 = \"listen\"\n",
    "string2 = \"silent\"\n",
    "result = are_anagrams(string1, string2)\n",
    "if result:\n",
    "    print(f'\"{string1}\" and \"{string2}\" are anagrams.')\n",
    "else:\n",
    "    print(f'\"{string1}\" and \"{string2}\" are not anagrams.')\n"
   ]
  },
  {
   "cell_type": "code",
   "execution_count": 2,
   "id": "3e0469ad-74d6-48e9-b7de-acbf1c6af199",
   "metadata": {},
   "outputs": [
    {
     "name": "stdout",
     "output_type": "stream",
     "text": [
      "Substring \"the\" found at positions: [0, 31, 45]\n"
     ]
    }
   ],
   "source": [
    "# 5. Write a code find all occurrences of a given substring within another string.\n",
    "\n",
    "def find_substring_occurrences(main_string, substring):\n",
    "    occurrences = []\n",
    "    start = 0\n",
    "    \n",
    "    while True:\n",
    "        start = main_string.find(substring, start)\n",
    "        \n",
    "        if start == -1:\n",
    "            break\n",
    "    \n",
    "        occurrences.append(start)\n",
    "        \n",
    "        start += 1\n",
    "    \n",
    "    return occurrences\n",
    "\n",
    "main_string = \"the quick brown fox jumps over the lazy dog. the quick fox.\"\n",
    "substring = \"the\"\n",
    "result = find_substring_occurrences(main_string, substring)\n",
    "\n",
    "if result:\n",
    "    print(f'Substring \"{substring}\" found at positions: {result}')\n",
    "else:\n",
    "    print(f'Substring \"{substring}\" not found in the main string.')"
   ]
  },
  {
   "cell_type": "code",
   "execution_count": 3,
   "id": "5bb0dfe1-bfb6-4e53-b832-989e23fb4d23",
   "metadata": {},
   "outputs": [
    {
     "name": "stdout",
     "output_type": "stream",
     "text": [
      "Compressed string: a2b1c5a3\n"
     ]
    }
   ],
   "source": [
    "# 6. Write a code to perform basic string compression using the counts of repeated characters.\n",
    "\n",
    "def compress_string(input_string):\n",
    "    compressed = []\n",
    "    count = 1\n",
    "    \n",
    "    for i in range(1, len(input_string)):\n",
    "        if input_string[i] == input_string[i - 1]:\n",
    "            count += 1\n",
    "        else:\n",
    "            compressed.append(input_string[i - 1] + str(count))\n",
    "            count = 1\n",
    "    \n",
    "    compressed.append(input_string[-1] + str(count))\n",
    "    \n",
    "    compressed_string = ''.join(compressed)\n",
    "    \n",
    "    return compressed_string if len(compressed_string) < len(input_string) else input_string\n",
    "\n",
    "input_string = \"aabcccccaaa\"\n",
    "result = compress_string(input_string)\n",
    "print(f\"Compressed string: {result}\")\n"
   ]
  },
  {
   "cell_type": "code",
   "execution_count": 4,
   "id": "75f93b14-247b-474a-b55f-c6366c8d0d90",
   "metadata": {},
   "outputs": [
    {
     "name": "stdout",
     "output_type": "stream",
     "text": [
      "Is \"a2b1c5a3\" a compressed string? True\n",
      "Is \"aabcccccaaa\" a compressed string? False\n"
     ]
    }
   ],
   "source": [
    "# 7. Write a code to determine if a string compression using the counts of repeated characters.\n",
    "\n",
    "import re\n",
    "\n",
    "def is_compressed_string(input_string):\n",
    "    pattern = r'([a-zA-Z])(\\d+)'\n",
    "    \n",
    "    matches = re.findall(pattern, input_string)\n",
    "    \n",
    "    reconstructed_string = ''.join(char + count for char, count in matches)\n",
    "    \n",
    "    return reconstructed_string == input_string\n",
    "\n",
    "input_string1 = \"a2b1c5a3\"\n",
    "input_string2 = \"aabcccccaaa\"\n",
    "\n",
    "result1 = is_compressed_string(input_string1)\n",
    "result2 = is_compressed_string(input_string2)\n",
    "\n",
    "print(f'Is \"{input_string1}\" a compressed string? {result1}')\n",
    "print(f'Is \"{input_string2}\" a compressed string? {result2}')\n"
   ]
  },
  {
   "cell_type": "code",
   "execution_count": 5,
   "id": "fda3b537-5265-4843-9642-9a82cd0c7cf0",
   "metadata": {},
   "outputs": [
    {
     "name": "stdout",
     "output_type": "stream",
     "text": [
      "String with unique characters: abcdef\n"
     ]
    }
   ],
   "source": [
    "# 8. Write a code to convert a given string has all unique characters.\n",
    "\n",
    "def remove_duplicates(input_string):\n",
    "    seen = set()       \n",
    "    unique_string = [] \n",
    "    \n",
    "    for char in input_string:\n",
    "        if char not in seen:\n",
    "            seen.add(char)\n",
    "            unique_string.append(char)\n",
    "    \n",
    "    return ''.join(unique_string)\n",
    "\n",
    "input_string = \"aabbccddeeff\"\n",
    "result = remove_duplicates(input_string)\n",
    "print(f\"String with unique characters: {result}\")\n"
   ]
  },
  {
   "cell_type": "code",
   "execution_count": 6,
   "id": "8c8efb8a-f64a-492c-827d-4c8536de6739",
   "metadata": {},
   "outputs": [
    {
     "name": "stdout",
     "output_type": "stream",
     "text": [
      "Number of words in the string: 6\n"
     ]
    }
   ],
   "source": [
    "# 9.Write a code to count the number of words in string.\n",
    "\n",
    "def count_words(input_string):\n",
    "    words = input_string.split()\n",
    "    \n",
    "    return len(words)\n",
    "\n",
    "input_string = \"Hello, how are you doing today?\"\n",
    "word_count = count_words(input_string)\n",
    "print(f\"Number of words in the string: {word_count}\")\n"
   ]
  },
  {
   "cell_type": "code",
   "execution_count": 9,
   "id": "94ed14b0-43ff-4fd4-8830-d6a0d7683176",
   "metadata": {},
   "outputs": [
    {
     "name": "stdout",
     "output_type": "stream",
     "text": [
      "Concatenated string: HelloWorld\n"
     ]
    }
   ],
   "source": [
    "# 10. Write a code to count concatenate two string without using the + operator.\n",
    "\n",
    "def concatenate_strings(str1, str2):\n",
    "    return ''.join([str1, str2])\n",
    "\n",
    "string1 = \"Hello\"\n",
    "string2 = \"World\"\n",
    "result = concatenate_strings(string1, string2)\n",
    "print(f\"Concatenated string: {result}\")\n",
    "\n"
   ]
  },
  {
   "cell_type": "code",
   "execution_count": 10,
   "id": "70590658-dbab-451f-a92d-1496e8fcf41d",
   "metadata": {},
   "outputs": [
    {
     "name": "stdout",
     "output_type": "stream",
     "text": [
      "List after removing 2: [1, 3, 4, 5, 6]\n"
     ]
    }
   ],
   "source": [
    "# 11.Write a code to remove all occurrence of a specific element from a list.\n",
    "\n",
    "def remove_all_occurrences(lst, element):\n",
    "    return [item for item in lst if item != element]\n",
    "\n",
    "my_list = [1, 2, 3, 4, 2, 5, 2, 6]\n",
    "element_to_remove = 2\n",
    "result = remove_all_occurrences(my_list, element_to_remove)\n",
    "print(f\"List after removing {element_to_remove}: {result}\")\n"
   ]
  },
  {
   "cell_type": "code",
   "execution_count": 11,
   "id": "af65f66f-f7d5-41c2-8779-69e4952abc14",
   "metadata": {},
   "outputs": [
    {
     "name": "stdout",
     "output_type": "stream",
     "text": [
      "The second largest number is: 34\n"
     ]
    }
   ],
   "source": [
    "# 12. implement a code to find the second largest number in given list of integers.\n",
    "\n",
    "def find_second_largest(numbers):\n",
    "    if len(numbers) < 2:\n",
    "        return None \n",
    "    \n",
    "    largest = second_largest = float('-inf')\n",
    "    \n",
    "    for number in numbers:\n",
    "        if number > largest:\n",
    "            second_largest = largest\n",
    "            largest = number\n",
    "        elif number > second_largest and number != largest:\n",
    "            second_largest = number\n",
    "    \n",
    "    return second_largest if second_largest != float('-inf') else None\n",
    "\n",
    "numbers_list = [12, 35, 1, 10, 34, 1]\n",
    "second_largest = find_second_largest(numbers_list)\n",
    "if second_largest is not None:\n",
    "    print(f\"The second largest number is: {second_largest}\")\n",
    "else:\n",
    "    print(\"There is no second largest number.\")\n"
   ]
  },
  {
   "cell_type": "code",
   "execution_count": 12,
   "id": "93ad484f-6a32-43bd-b9ee-a7282572f070",
   "metadata": {},
   "outputs": [
    {
     "name": "stdout",
     "output_type": "stream",
     "text": [
      "Occurrences: {1: 2, 2: 2, 3: 1, 4: 3, 5: 1}\n"
     ]
    }
   ],
   "source": [
    "# 13. create a code to count the occurrences of each element in a list and return a dictionary with elements are keys and their count as values.\n",
    "\n",
    "def count_occurrences(lst):\n",
    "    occurrence_dict = {}\n",
    "    \n",
    "    for item in lst:\n",
    "        if item in occurrence_dict:\n",
    "            occurrence_dict[item] += 1\n",
    "        else:\n",
    "            occurrence_dict[item] = 1\n",
    "    \n",
    "    return occurrence_dict\n",
    "\n",
    "my_list = [1, 2, 2, 3, 4, 4, 4, 5, 1]\n",
    "occurrences = count_occurrences(my_list)\n",
    "print(f\"Occurrences: {occurrences}\")\n"
   ]
  },
  {
   "cell_type": "code",
   "execution_count": 13,
   "id": "43fd4e97-b1ae-4489-b007-02523fd44493",
   "metadata": {},
   "outputs": [
    {
     "name": "stdout",
     "output_type": "stream",
     "text": [
      "Reversed list: [5, 4, 3, 2, 1]\n"
     ]
    }
   ],
   "source": [
    "# 14. Write a code reverse a list in-place without using any buily-in reverse functions.\n",
    "\n",
    "def reverse_list(lst):\n",
    "    left = 0\n",
    "    right = len(lst) - 1\n",
    "    \n",
    "    while left < right:\n",
    "        lst[left], lst[right] = lst[right], lst[left]\n",
    "        left += 1\n",
    "        right -= 1\n",
    "\n",
    "my_list = [1, 2, 3, 4, 5]\n",
    "reverse_list(my_list)\n",
    "print(f\"Reversed list: {my_list}\")\n"
   ]
  },
  {
   "cell_type": "code",
   "execution_count": 14,
   "id": "52d5cca8-8874-4dbf-aa4b-f07c213643db",
   "metadata": {},
   "outputs": [
    {
     "name": "stdout",
     "output_type": "stream",
     "text": [
      "List after removing duplicates: [1, 2, 3, 4, 5, 6]\n"
     ]
    }
   ],
   "source": [
    "# 15. Implement a code to find and remove duplicates from a list while preserving the original order of elements.\n",
    "\n",
    "def remove_duplicates(lst):\n",
    "    seen = set()      \n",
    "    result = []      \n",
    "    \n",
    "    for item in lst:\n",
    "        if item not in seen:\n",
    "            seen.add(item)\n",
    "            result.append(item)\n",
    "    \n",
    "    return result\n",
    "\n",
    "my_list = [1, 2, 2, 3, 4, 4, 5, 1, 6]\n",
    "clean_list = remove_duplicates(my_list)\n",
    "print(f\"List after removing duplicates: {clean_list}\")\n",
    "\n"
   ]
  },
  {
   "cell_type": "code",
   "execution_count": 17,
   "id": "9023f81f-0f44-43cc-b4c0-800d6cb628f2",
   "metadata": {},
   "outputs": [
    {
     "name": "stdout",
     "output_type": "stream",
     "text": [
      "List [1, 2, 2, 3, 4, 5] is sorted: True\n",
      "List [5, 4, 4, 3, 2, 1] is sorted: True\n",
      "List [1, 3, 2, 4, 5] is sorted: False\n"
     ]
    }
   ],
   "source": [
    "# 16. create a code to check if a given list is sorted (either in ascending or descending order) or not.\n",
    "\n",
    "def is_sorted(lst):\n",
    "    if not lst:\n",
    "        return True  # \n",
    "    \n",
    "    ascending = all(lst[i] <= lst[i + 1] for i in range(len(lst) - 1))\n",
    "    descending = all(lst[i] >= lst[i + 1] for i in range(len(lst) - 1))\n",
    "    \n",
    "    return ascending or descending\n",
    "\n",
    "list1 = [1, 2, 2, 3, 4, 5]   \n",
    "list2 = [5, 4, 4, 3, 2, 1] \n",
    "list3 = [1, 3, 2, 4, 5]      \n",
    "\n",
    "print(f\"List {list1} is sorted: {is_sorted(list1)}\")\n",
    "print(f\"List {list2} is sorted: {is_sorted(list2)}\")\n",
    "print(f\"List {list3} is sorted: {is_sorted(list3)}\")\n"
   ]
  },
  {
   "cell_type": "code",
   "execution_count": 18,
   "id": "01c327ba-06ea-44d1-a2b2-4255588ed441",
   "metadata": {},
   "outputs": [
    {
     "name": "stdout",
     "output_type": "stream",
     "text": [
      "Merged sorted list: [1, 2, 3, 4, 5, 6, 7, 8]\n"
     ]
    }
   ],
   "source": [
    "# 17. Write a code to merge two sorted list into a single sorted list.\n",
    "\n",
    "def merge_sorted_lists(list1, list2):\n",
    "    merged_list = []\n",
    "    i = j = 0  \n",
    "\n",
    "    while i < len(list1) and j < len(list2):\n",
    "        if list1[i] < list2[j]:\n",
    "            merged_list.append(list1[i])\n",
    "            i += 1\n",
    "        else:\n",
    "            merged_list.append(list2[j])\n",
    "            j += 1\n",
    "\n",
    "    while i < len(list1):\n",
    "        merged_list.append(list1[i])\n",
    "        i += 1\n",
    "\n",
    "    while j < len(list2):\n",
    "        merged_list.append(list2[j])\n",
    "        j += 1\n",
    "\n",
    "    return merged_list\n",
    "\n",
    "sorted_list1 = [1, 3, 5, 7]\n",
    "sorted_list2 = [2, 4, 6, 8]\n",
    "merged_list = merge_sorted_lists(sorted_list1, sorted_list2)\n",
    "print(f\"Merged sorted list: {merged_list}\")\n"
   ]
  },
  {
   "cell_type": "code",
   "execution_count": 19,
   "id": "9317f556-d7c5-42a7-b7f2-528d2f6ea72d",
   "metadata": {},
   "outputs": [
    {
     "name": "stdout",
     "output_type": "stream",
     "text": [
      "Intersection of the two lists: [4, 5]\n"
     ]
    }
   ],
   "source": [
    "# 18. Implement a code to find the intersection of two given lists.\n",
    "\n",
    "def find_intersection(list1, list2):\n",
    "    set1 = set(list1)\n",
    "    set2 = set(list2)\n",
    "    \n",
    "    intersection = set1 & set2\n",
    "    \n",
    "    return list(intersection)\n",
    "\n",
    "list1 = [1, 2, 3, 4, 5]\n",
    "list2 = [4, 5, 6, 7, 8]\n",
    "intersection = find_intersection(list1, list2)\n",
    "print(f\"Intersection of the two lists: {intersection}\")\n"
   ]
  },
  {
   "cell_type": "code",
   "execution_count": 23,
   "id": "7e25ed4d-e99b-4b88-9a63-19027f70574a",
   "metadata": {},
   "outputs": [
    {
     "name": "stdout",
     "output_type": "stream",
     "text": [
      "Union of the two lists: [1, 2, 3, 4, 5, 6, 7, 8]\n"
     ]
    }
   ],
   "source": [
    "# 19. Create a code to find the union of two list without duplicates.\n",
    "\n",
    "def union_of_lists(list1, list2):\n",
    "    # Convert both lists to sets to remove duplicates and find the union\n",
    "    set1 = set(list1)\n",
    "    set2 = set(list2)\n",
    "    \n",
    "    # Find the union of the two sets\n",
    "    union_set = set1 | set2\n",
    "    \n",
    "    # Convert the resulting set back to a list\n",
    "    return list(union_set)\n",
    "\n",
    "# Example usage\n",
    "list1 = [1, 2, 3, 4, 5]\n",
    "list2 = [4, 5, 6, 7, 8]\n",
    "union_list = union_of_lists(list1, list2)\n",
    "print(f\"Union of the two lists: {union_list}\")\n"
   ]
  },
  {
   "cell_type": "code",
   "execution_count": 24,
   "id": "9c25e612-837b-4494-976a-cde611f857c8",
   "metadata": {},
   "outputs": [
    {
     "name": "stdout",
     "output_type": "stream",
     "text": [
      "Shuffled list: [2, 3, 4, 5, 6, 1]\n"
     ]
    }
   ],
   "source": [
    "# 20. Write a code to shuffle a given list randomly without using any built-in-shuffle functions.\n",
    "\n",
    "import random\n",
    "\n",
    "def fisher_yates_shuffle(lst):\n",
    "    for i in range(len(lst) - 1, 0, -1):\n",
    "        j = random.randint(0, i)\n",
    "        lst[i], lst[j] = lst[j], lst[i]\n",
    "\n",
    "my_list = [1, 2, 3, 4, 5, 6]\n",
    "fisher_yates_shuffle(my_list)\n",
    "print(f\"Shuffled list: {my_list}\")\n",
    "\n"
   ]
  },
  {
   "cell_type": "code",
   "execution_count": 1,
   "id": "de268f73-51c9-4756-ab2d-6412bd6f8865",
   "metadata": {},
   "outputs": [
    {
     "name": "stdout",
     "output_type": "stream",
     "text": [
      "Common elements tuple: (4, 5)\n"
     ]
    }
   ],
   "source": [
    "# 21. Write a code that takes two tuples as input and return a new tuple containing elements that are common to both input tuples.\n",
    "\n",
    "def common_elements(tuple1, tuple2):\n",
    "    set1 = set(tuple1)\n",
    "    set2 = set(tuple2)\n",
    "    \n",
    "    common_set = set1 & set2\n",
    "    \n",
    "    return tuple(common_set)\n",
    "\n",
    "tuple1 = (1, 2, 3, 4, 5)\n",
    "tuple2 = (4, 5, 6, 7, 8)\n",
    "common_tuple = common_elements(tuple1, tuple2)\n",
    "print(f\"Common elements tuple: {common_tuple}\")\n"
   ]
  },
  {
   "cell_type": "code",
   "execution_count": 2,
   "id": "c9911574-2b31-4015-b8fe-f8ddb7d80bc8",
   "metadata": {},
   "outputs": [
    {
     "name": "stdin",
     "output_type": "stream",
     "text": [
      "Enter the first set of integers, separated by commas:  461\n",
      "Enter the second set of integers, separated by commas:  582\n"
     ]
    },
    {
     "name": "stdout",
     "output_type": "stream",
     "text": [
      "The intersection of the two sets is: set()\n"
     ]
    }
   ],
   "source": [
    "# 22. Create a code that prompts the user to enter two sets of integers separated by commas. Then, print the intersection of these two sets.\n",
    "\n",
    "def get_set_from_input(prompt):\n",
    "    input_str = input(prompt)\n",
    "    input_set = set(map(int, input_str.split(',')))\n",
    "    return input_set\n",
    "\n",
    "def main():\n",
    "    set1 = get_set_from_input(\"Enter the first set of integers, separated by commas: \")\n",
    "    set2 = get_set_from_input(\"Enter the second set of integers, separated by commas: \")\n",
    "    \n",
    "    intersection = set1 & set2\n",
    "\n",
    "    print(f\"The intersection of the two sets is: {intersection}\")\n",
    "\n",
    "if __name__ == \"__main__\":\n",
    "    main()\n"
   ]
  },
  {
   "cell_type": "code",
   "execution_count": 3,
   "id": "b08ec260-edbd-455c-bea6-32e5f01dc5b4",
   "metadata": {},
   "outputs": [
    {
     "name": "stdout",
     "output_type": "stream",
     "text": [
      "Concatenated tuple: (1, 2, 3, 4, 5, 6)\n"
     ]
    }
   ],
   "source": [
    "# 23. Write a code to concatenate two tuples. The function should take two tuples as input and return a new tuple containing elements from both input tuples.\n",
    "\n",
    "def concatenate_tuples(tuple1, tuple2):\n",
    "    result_tuple = tuple1 + tuple2\n",
    "    return result_tuple\n",
    "\n",
    "tuple1 = (1, 2, 3)\n",
    "tuple2 = (4, 5, 6)\n",
    "concatenated_tuple = concatenate_tuples(tuple1, tuple2)\n",
    "print(f\"Concatenated tuple: {concatenated_tuple}\")\n"
   ]
  },
  {
   "cell_type": "code",
   "execution_count": 1,
   "id": "863c11ea-1b94-4445-8eaa-801588fff596",
   "metadata": {},
   "outputs": [
    {
     "name": "stdin",
     "output_type": "stream",
     "text": [
      "Enter the first set of strings, separated by commas:  harsh , sharma\n",
      "Enter the second set of strings, separated by commas:  harsh\n"
     ]
    },
    {
     "name": "stdout",
     "output_type": "stream",
     "text": [
      "Elements in the first set but not in the second set: {'harsh ', ' sharma'}\n"
     ]
    }
   ],
   "source": [
    "# 24. Develop a code that prompts the user to input two sets strings. Then, print the elements that are present in the first set but not in the second set.\n",
    "\n",
    "def get_set_from_input(prompt):\n",
    "    input_str = input(prompt)\n",
    "    input_set = set(input_str.split(','))\n",
    "    return input_set\n",
    "\n",
    "def main():\n",
    "    set1 = get_set_from_input(\"Enter the first set of strings, separated by commas: \")\n",
    "    set2 = get_set_from_input(\"Enter the second set of strings, separated by commas: \")\n",
    "    \n",
    "    difference = set1 - set2\n",
    "\n",
    "    print(f\"Elements in the first set but not in the second set: {difference}\")\n",
    "\n",
    "if __name__ == \"__main__\":\n",
    "    main()\n"
   ]
  },
  {
   "cell_type": "code",
   "execution_count": 2,
   "id": "b189099e-8923-4abb-af7e-b3ce975a23ba",
   "metadata": {},
   "outputs": [
    {
     "name": "stdout",
     "output_type": "stream",
     "text": [
      "Sliced tuple: (30, 40, 50)\n"
     ]
    }
   ],
   "source": [
    "#25. Create a code that takes a tuples and two integers as input. The function should return a new tuple containing elements from the origin tuple within the specified range of indices.\n",
    "\n",
    "def slice_tuple(tpl, start, end):\n",
    "    start = max(0, start)\n",
    "    end = min(len(tpl), end)\n",
    "    \n",
    "    return tpl[start:end]\n",
    "\n",
    "original_tuple = (10, 20, 30, 40, 50, 60)\n",
    "start_index = 2\n",
    "end_index = 5\n",
    "sliced_tuple = slice_tuple(original_tuple, start_index, end_index)\n",
    "print(f\"Sliced tuple: {sliced_tuple}\")\n"
   ]
  },
  {
   "cell_type": "code",
   "execution_count": 3,
   "id": "71df772e-c183-4238-a63b-3647161dcec6",
   "metadata": {},
   "outputs": [
    {
     "name": "stdin",
     "output_type": "stream",
     "text": [
      "Enter the first set of characters:  harsh\n",
      "Enter the second set of characters:  sharma\n"
     ]
    },
    {
     "name": "stdout",
     "output_type": "stream",
     "text": [
      "The union of the two sets is: {'a', 'r', 's', 'm', 'h'}\n"
     ]
    }
   ],
   "source": [
    "# 26. Write a code that prompts the user to input two sets of characters. Then ,print the union of these two sets.\n",
    "\n",
    "def get_set_from_input(prompt):\n",
    "    input_str = input(prompt)\n",
    "    input_set = set(input_str)\n",
    "    return input_set\n",
    "\n",
    "def main():\n",
    "    set1 = get_set_from_input(\"Enter the first set of characters: \")\n",
    "    set2 = get_set_from_input(\"Enter the second set of characters: \")\n",
    "    \n",
    "    union_set = set1 | set2\n",
    "    \n",
    "    print(f\"The union of the two sets is: {union_set}\")\n",
    "\n",
    "if __name__ == \"__main__\":\n",
    "    main()\n"
   ]
  },
  {
   "cell_type": "code",
   "execution_count": 2,
   "id": "c7f5f852-f39d-4991-8807-2b8a6d86fdb7",
   "metadata": {},
   "outputs": [
    {
     "name": "stdout",
     "output_type": "stream",
     "text": [
      "Union of the two sets: {1, 2, 3, 4, 5, 6, 7, 8}\n",
      "Intersection of the two sets: {4, 5}\n",
      "Difference of the two sets (set1 - set2): {1, 2, 3}\n"
     ]
    }
   ],
   "source": [
    "# 27. Develop a code that takes a tupe of interger as input.the function should return the maximum and minmum values from the tuple using tuple unpacking.\n",
    "\n",
    "def main():\n",
    "    set1 = {1, 2, 3, 4, 5}\n",
    "    set2 = {4, 5, 6, 7, 8}\n",
    "    \n",
    "    union_set = set1 | set2\n",
    "    \n",
    "    intersection_set = set1 & set2\n",
    "    \n",
    "    difference_set = set1 - set2\n",
    "    \n",
    "    print(f\"Union of the two sets: {union_set}\")\n",
    "    print(f\"Intersection of the two sets: {intersection_set}\")\n",
    "    print(f\"Difference of the two sets (set1 - set2): {difference_set}\")\n",
    "\n",
    "\n",
    "if __name__ == \"__main__\":\n",
    "    main()\n"
   ]
  },
  {
   "cell_type": "code",
   "execution_count": 3,
   "id": "2b6471fe-f939-4fd0-8936-fe0d2ce9f0a1",
   "metadata": {},
   "outputs": [
    {
     "name": "stdout",
     "output_type": "stream",
     "text": [
      "Union of the two sets: {70, 40, 10, 80, 50, 20, 60, 30}\n",
      "Intersection of the two sets: {40, 50}\n",
      "Difference of the two sets (set1 - set2): {10, 20, 30}\n"
     ]
    }
   ],
   "source": [
    "# 28. Create a code that defines two sets of integers. then, print the union, intersection, and differnce of these two sets.\n",
    "\n",
    "def main():\n",
    "    set1 = {10, 20, 30, 40, 50}\n",
    "    set2 = {40, 50, 60, 70, 80}\n",
    "    \n",
    "    union_set = set1.union(set2)\n",
    "    \n",
    "    intersection_set = set1.intersection(set2)\n",
    "    \n",
    "    difference_set = set1.difference(set2)\n",
    "    \n",
    "    print(f\"Union of the two sets: {union_set}\")\n",
    "    print(f\"Intersection of the two sets: {intersection_set}\")\n",
    "    print(f\"Difference of the two sets (set1 - set2): {difference_set}\")\n",
    "\n",
    "if __name__ == \"__main__\":\n",
    "    main()\n"
   ]
  },
  {
   "cell_type": "code",
   "execution_count": 4,
   "id": "df819c5e-e701-4877-8dd7-92c5ad9100a9",
   "metadata": {},
   "outputs": [
    {
     "name": "stdout",
     "output_type": "stream",
     "text": [
      "The element 2 occurs 4 times in the tuple.\n"
     ]
    }
   ],
   "source": [
    "# 29. Write a code that takes a tuple and an element as input. the function should return the count of occurrence of the given element in the tuple.\n",
    "\n",
    "def count_occurrences(tpl, element):\n",
    "    return tpl.count(element)\n",
    "\n",
    "input_tuple = (1, 2, 3, 4, 2, 2, 5, 2)\n",
    "element_to_count = 2\n",
    "count = count_occurrences(input_tuple, element_to_count)\n",
    "print(f\"The element {element_to_count} occurs {count} times in the tuple.\")\n"
   ]
  },
  {
   "cell_type": "code",
   "execution_count": 5,
   "id": "56c34b93-4df1-4db1-b490-caa8167cafc7",
   "metadata": {},
   "outputs": [
    {
     "name": "stdin",
     "output_type": "stream",
     "text": [
      "Enter the first set of strings, separated by commas:  harsh\n",
      "Enter the second set of strings, separated by commas:  sharma\n"
     ]
    },
    {
     "name": "stdout",
     "output_type": "stream",
     "text": [
      "Symmetric difference of the two sets: {'harsh', 'sharma'}\n"
     ]
    }
   ],
   "source": [
    "# 30. Develop a code that prompts the user to input two sets of strings. Then, print the symmetric difference off these two sets.\n",
    "\n",
    "def get_set_from_input(prompt):\n",
    "    input_str = input(prompt)\n",
    "    input_set = set(input_str.split(','))\n",
    "    return input_set\n",
    "\n",
    "def main():\n",
    "    set1 = get_set_from_input(\"Enter the first set of strings, separated by commas: \")\n",
    "    set2 = get_set_from_input(\"Enter the second set of strings, separated by commas: \")\n",
    "    \n",
    "    symmetric_difference = set1.symmetric_difference(set2)\n",
    "    \n",
    "    print(f\"Symmetric difference of the two sets: {symmetric_difference}\")\n",
    "\n",
    "if __name__ == \"__main__\":\n",
    "    main()\n"
   ]
  },
  {
   "cell_type": "code",
   "execution_count": 6,
   "id": "8d96ad77-2fdc-4af5-a6a5-1663d80234ef",
   "metadata": {},
   "outputs": [
    {
     "name": "stdout",
     "output_type": "stream",
     "text": [
      "Merged dictionary: {'apple': 12, 'banana': 8, 'cherry': 11, 'date': 8}\n"
     ]
    }
   ],
   "source": [
    "# 31. Write a code that takes a list of words as input and merges them into a single dictionary. if there are common keys, the values should be added together. \n",
    "\n",
    "from collections import defaultdict\n",
    "\n",
    "def merge_dictionaries(dicts):\n",
    "    merged_dict = defaultdict(int)\n",
    "    \n",
    "    for dictionary in dicts:\n",
    "        for key, value in dictionary.items():\n",
    "            merged_dict[key] += value\n",
    "    \n",
    "    return dict(merged_dict)\n",
    "\n",
    "dict_list = [\n",
    "    {'apple': 10, 'banana': 5},\n",
    "    {'banana': 3, 'cherry': 7},\n",
    "    {'apple': 2, 'cherry': 4, 'date': 8}\n",
    "]\n",
    "\n",
    "merged_dict = merge_dictionaries(dict_list)\n",
    "print(f\"Merged dictionary: {merged_dict}\")\n"
   ]
  },
  {
   "cell_type": "code",
   "execution_count": 7,
   "id": "4b37049f-5411-49a3-aae6-3ee293fc3e8d",
   "metadata": {},
   "outputs": [
    {
     "name": "stdout",
     "output_type": "stream",
     "text": [
      "Merged dictionary: {'apple': 10, 'banana': 8, 'orange': 9, 'cherry': 7}\n"
     ]
    }
   ],
   "source": [
    "# 32.Write a code that takes two dictionaries as input and merges them into a single dictionary. if there are common keys, the values should be added together.\n",
    "\n",
    "def merge_dictionaries(dict1, dict2):\n",
    "    merged_dict = dict1.copy()  \n",
    "    \n",
    "    for key, value in dict2.items():\n",
    "        if key in merged_dict:\n",
    "            merged_dict[key] += value\n",
    "        else:\n",
    "            merged_dict[key] = value\n",
    "    \n",
    "    return merged_dict\n",
    "\n",
    "dict1 = {'apple': 10, 'banana': 5, 'orange': 7}\n",
    "dict2 = {'banana': 3, 'cherry': 7, 'orange': 2}\n",
    "\n",
    "merged_dict = merge_dictionaries(dict1, dict2)\n",
    "print(f\"Merged dictionary: {merged_dict}\")\n"
   ]
  },
  {
   "cell_type": "code",
   "execution_count": 8,
   "id": "ef7016d8-71f0-4d56-a51a-c5ae770d7276",
   "metadata": {},
   "outputs": [
    {
     "name": "stdout",
     "output_type": "stream",
     "text": [
      "Value for keys ['a', 'b', 'c']: 42\n",
      "Value for keys ['x', 'y', 'z']: hello\n",
      "Value for keys ['a', 'b', 'd']: None\n"
     ]
    }
   ],
   "source": [
    "# 33. Write a code that access a value in a nested dictionary. The function should take the dictionary and a list of keys as input, and return the corresponding value. if any of the keys do not exist in the dictionary, the function should return None.\n",
    "\n",
    "def get_nested_value(d, keys):\n",
    "    current_value = d\n",
    "    \n",
    "    for key in keys:\n",
    "        if isinstance(current_value, dict) and key in current_value:\n",
    "            current_value = current_value[key]\n",
    "        else:\n",
    "            return None\n",
    "    \n",
    "    \n",
    "    return current_value\n",
    "\n",
    "nested_dict = {\n",
    "    'a': {\n",
    "        'b': {\n",
    "            'c': 42\n",
    "        }\n",
    "    },\n",
    "    'x': {\n",
    "        'y': {\n",
    "            'z': 'hello'\n",
    "        }\n",
    "    }\n",
    "}\n",
    "\n",
    "keys1 = ['a', 'b', 'c']\n",
    "keys2 = ['x', 'y', 'z']\n",
    "keys3 = ['a', 'b', 'd']  \n",
    "\n",
    "value1 = get_nested_value(nested_dict, keys1)\n",
    "value2 = get_nested_value(nested_dict, keys2)\n",
    "value3 = get_nested_value(nested_dict, keys3)\n",
    "\n",
    "print(f\"Value for keys {keys1}: {value1}\")  \n",
    "print(f\"Value for keys {keys2}: {value2}\")  \n",
    "print(f\"Value for keys {keys3}: {value3}\")  \n"
   ]
  },
  {
   "cell_type": "code",
   "execution_count": 9,
   "id": "ee9b4e69-23fe-4361-9221-50df3139d829",
   "metadata": {},
   "outputs": [
    {
     "name": "stdout",
     "output_type": "stream",
     "text": [
      "Sorted dictionary (ascending): {'banana': 5, 'apple': 10, 'date': 15, 'cherry': 20}\n",
      "Sorted dictionary (descending): {'cherry': 20, 'date': 15, 'apple': 10, 'banana': 5}\n"
     ]
    }
   ],
   "source": [
    "# 34. Write a code that takes a dictionary as input and returns a sorted version of it based on the values. You can choose whether to sort in ascending or descending order.\n",
    "\n",
    "def sort_dict_by_value(d, ascending=True):\n",
    "    sorted_items = sorted(d.items(), key=lambda item: item[1], reverse=not ascending)\n",
    "    \n",
    "    sorted_dict = dict(sorted_items)\n",
    "    \n",
    "    return sorted_dict\n",
    "\n",
    "input_dict = {'apple': 10, 'banana': 5, 'cherry': 20, 'date': 15}\n",
    "\n",
    "sorted_dict_ascending = sort_dict_by_value(input_dict, ascending=True)\n",
    "print(f\"Sorted dictionary (ascending): {sorted_dict_ascending}\")\n",
    "\n",
    "sorted_dict_descending = sort_dict_by_value(input_dict, ascending=False)\n",
    "print(f\"Sorted dictionary (descending): {sorted_dict_descending}\")\n"
   ]
  },
  {
   "cell_type": "code",
   "execution_count": 1,
   "id": "c3f0f23d-2978-47fe-b1dc-9d0a4e4a1e99",
   "metadata": {},
   "outputs": [
    {
     "name": "stdout",
     "output_type": "stream",
     "text": [
      "{1: ['a', 'c'], 2: ['b'], 3: ['d']}\n"
     ]
    }
   ],
   "source": [
    "# 35. Write a code that inverts a dictionary, swapping keys and values. Ensure that the inverted dictionary correctly handles cases where multiple keys have the same value by storing the keys as list in the inverted dictionary.\n",
    "\n",
    "def invert_dictionary(original_dict):\n",
    "    inverted_dict = {}\n",
    "    for key, value in original_dict.items():\n",
    "        if value not in inverted_dict:\n",
    "            inverted_dict[value] = [key]\n",
    "        else:\n",
    "            inverted_dict[value].append(key)\n",
    "    return inverted_dict\n",
    "\n",
    "# Example usage:\n",
    "original_dict = {\n",
    "    'a': 1,\n",
    "    'b': 2,\n",
    "    'c': 1,\n",
    "    'd': 3\n",
    "}\n",
    "\n",
    "inverted_dict = invert_dictionary(original_dict)\n",
    "print(inverted_dict)\n"
   ]
  },
  {
   "cell_type": "code",
   "execution_count": null,
   "id": "7b1deccc-4128-49d2-93c5-1b8d97260e9d",
   "metadata": {},
   "outputs": [],
   "source": []
  }
 ],
 "metadata": {
  "kernelspec": {
   "display_name": "Python 3 (ipykernel)",
   "language": "python",
   "name": "python3"
  },
  "language_info": {
   "codemirror_mode": {
    "name": "ipython",
    "version": 3
   },
   "file_extension": ".py",
   "mimetype": "text/x-python",
   "name": "python",
   "nbconvert_exporter": "python",
   "pygments_lexer": "ipython3",
   "version": "3.10.8"
  }
 },
 "nbformat": 4,
 "nbformat_minor": 5
}
